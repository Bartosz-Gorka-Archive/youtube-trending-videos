{
  "nbformat": 4,
  "nbformat_minor": 0,
  "metadata": {
    "colab": {
      "name": "youtube-trending-videos.ipynb",
      "provenance": [],
      "collapsed_sections": []
    },
    "kernelspec": {
      "name": "python3",
      "display_name": "Python 3"
    }
  },
  "cells": [
    {
      "cell_type": "code",
      "metadata": {
        "id": "mZpbuzg4jhus",
        "colab_type": "code",
        "colab": {
          "base_uri": "https://localhost:8080/",
          "height": 187
        },
        "outputId": "0f33f553-0a27-4c3c-8f4c-8a64f337945e"
      },
      "source": [
        "# check Colab configuration\n",
        "# start using GPU\n",
        "!ln -sf /opt/bin/nvidia-smi /usr/bin/nvidia-smi\n",
        "!pip install gputil\n",
        "try:\n",
        "  import GPUtil as GPU\n",
        "  GPUs = GPU.getGPUs()\n",
        "  device='/gpu:0'\n",
        "except:\n",
        "  device='/cpu:0'\n",
        "print(device)"
      ],
      "execution_count": 1,
      "outputs": [
        {
          "output_type": "stream",
          "text": [
            "Collecting gputil\n",
            "  Downloading https://files.pythonhosted.org/packages/ed/0e/5c61eedde9f6c87713e89d794f01e378cfd9565847d4576fa627d758c554/GPUtil-1.4.0.tar.gz\n",
            "Building wheels for collected packages: gputil\n",
            "  Building wheel for gputil (setup.py) ... \u001b[?25l\u001b[?25hdone\n",
            "  Created wheel for gputil: filename=GPUtil-1.4.0-cp36-none-any.whl size=7413 sha256=74f1f379ed96aa66d8ef7f89c662d49df11570450b9cbbe3057c92b659d9dd20\n",
            "  Stored in directory: /root/.cache/pip/wheels/3d/77/07/80562de4bb0786e5ea186911a2c831fdd0018bda69beab71fd\n",
            "Successfully built gputil\n",
            "Installing collected packages: gputil\n",
            "Successfully installed gputil-1.4.0\n",
            "/gpu:0\n"
          ],
          "name": "stdout"
        }
      ]
    },
    {
      "cell_type": "code",
      "metadata": {
        "id": "mmWG9xCWmVaQ",
        "colab_type": "code",
        "colab": {
          "base_uri": "https://localhost:8080/",
          "height": 122
        },
        "outputId": "7e0e17ba-04e2-485f-e4d3-c6a1cad18019"
      },
      "source": [
        "# mount drive\n",
        "from google.colab import drive\n",
        "drivePath = '/content/drive'\n",
        "drive.mount(drivePath)\n",
        "!mkdir -p drive\n",
        "drivePath += '/My Drive'"
      ],
      "execution_count": 2,
      "outputs": [
        {
          "output_type": "stream",
          "text": [
            "Go to this URL in a browser: https://accounts.google.com/o/oauth2/auth?client_id=947318989803-6bn6qk8qdgf4n4g3pfee6491hc0brc4i.apps.googleusercontent.com&redirect_uri=urn%3aietf%3awg%3aoauth%3a2.0%3aoob&response_type=code&scope=email%20https%3a%2f%2fwww.googleapis.com%2fauth%2fdocs.test%20https%3a%2f%2fwww.googleapis.com%2fauth%2fdrive%20https%3a%2f%2fwww.googleapis.com%2fauth%2fdrive.photos.readonly%20https%3a%2f%2fwww.googleapis.com%2fauth%2fpeopleapi.readonly\n",
            "\n",
            "Enter your authorization code:\n",
            "··········\n",
            "Mounted at /content/drive\n"
          ],
          "name": "stdout"
        }
      ]
    },
    {
      "cell_type": "code",
      "metadata": {
        "id": "eA9UX3cEnJBt",
        "colab_type": "code",
        "colab": {}
      },
      "source": [
        "# imports\n",
        "import numpy as np\n"
      ],
      "execution_count": 0,
      "outputs": []
    },
    {
      "cell_type": "code",
      "metadata": {
        "id": "0g55XtBzmkVa",
        "colab_type": "code",
        "colab": {
          "base_uri": "https://localhost:8080/",
          "height": 187
        },
        "outputId": "ac26835a-ebf8-440c-c161-6e6c8a149866"
      },
      "source": [
        "# get youtube data\n",
        "import json\n",
        "import pandas as pd \n",
        "\n",
        "directoryPath = '/youtube_data'\n",
        "GB_category_id = {}\n",
        "with open(drivePath + directoryPath + '/GB_category_id.json') as json_file:\n",
        "    GB_category_id = json.load(json_file)\n",
        "\n",
        "GB_videos_5p = pd.read_csv(drivePath + directoryPath + '/GB_videos_5p.csv', encoding='ISO-8859-1', sep=';')\n",
        "\n",
        "US_category_id = {}\n",
        "with open(drivePath + directoryPath + '/US_category_id.json') as json_file:\n",
        "    US_category_id = json.load(json_file)\n",
        "\n",
        "US_videos_5p = pd.read_csv(drivePath + directoryPath + '/US_videos_5p.csv', encoding='ISO-8859-1', sep=';')\n",
        "\n",
        "print(GB_videos_5p.columns)\n",
        "print(US_videos_5p.columns)"
      ],
      "execution_count": 56,
      "outputs": [
        {
          "output_type": "stream",
          "text": [
            "Index(['video_id', 'trending_date', 'title', 'channel_title', 'category_id',\n",
            "       'publish_time', 'tags', 'views', 'likes', 'dislikes', 'comment_count',\n",
            "       'thumbnail_link', 'comments_disabled', 'ratings_disabled',\n",
            "       'video_error_or_removed', 'description '],\n",
            "      dtype='object')\n",
            "Index(['video_id', 'trending_date', 'title', 'channel_title', 'category_id',\n",
            "       'publish_time', 'tags', 'views', 'likes', 'dislikes', 'comment_count',\n",
            "       'thumbnail_link', 'comments_disabled', 'ratings_disabled',\n",
            "       'video_error_or_removed', 'description '],\n",
            "      dtype='object')\n"
          ],
          "name": "stdout"
        }
      ]
    },
    {
      "cell_type": "code",
      "metadata": {
        "id": "iD6M8GLE0Arp",
        "colab_type": "code",
        "colab": {}
      },
      "source": [
        ""
      ],
      "execution_count": 0,
      "outputs": []
    }
  ]
}