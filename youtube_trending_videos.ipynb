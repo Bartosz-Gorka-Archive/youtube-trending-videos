{
  "nbformat": 4,
  "nbformat_minor": 0,
  "metadata": {
    "colab": {
      "name": "youtube-trending-videos.ipynb",
      "provenance": [],
      "collapsed_sections": []
    },
    "kernelspec": {
      "name": "python3",
      "display_name": "Python 3"
    }
  },
  "cells": [
    {
      "cell_type": "code",
      "metadata": {
        "id": "mmWG9xCWmVaQ",
        "colab_type": "code",
        "colab": {
          "base_uri": "https://localhost:8080/",
          "height": 34
        },
        "outputId": "8e52ba80-f4bc-4589-aae3-1292894b92e5"
      },
      "source": [
        "runOnColab = True\n",
        "if runOnColab:\n",
        "  # mount drive\n",
        "  from google.colab import drive\n",
        "  drivePath = '/content/drive'\n",
        "  drive.mount(drivePath)\n",
        "  !mkdir -p drive\n",
        "  drivePath += '/My Drive'\n",
        "else:\n",
        "  drivePath = ''"
      ],
      "execution_count": 66,
      "outputs": [
        {
          "output_type": "stream",
          "text": [
            "Drive already mounted at /content/drive; to attempt to forcibly remount, call drive.mount(\"/content/drive\", force_remount=True).\n"
          ],
          "name": "stdout"
        }
      ]
    },
    {
      "cell_type": "code",
      "metadata": {
        "id": "eA9UX3cEnJBt",
        "colab_type": "code",
        "colab": {}
      },
      "source": [
        "# imports\n",
        "import numpy as np\n",
        "import matplotlib.pyplot as plt\n",
        "import seaborn as sns"
      ],
      "execution_count": 0,
      "outputs": []
    },
    {
      "cell_type": "code",
      "metadata": {
        "id": "0g55XtBzmkVa",
        "colab_type": "code",
        "colab": {
          "base_uri": "https://localhost:8080/",
          "height": 187
        },
        "outputId": "fff8c999-fc77-4134-d4c1-8c7d0c9030b6"
      },
      "source": [
        "# get youtube data\n",
        "import json\n",
        "import pandas as pd \n",
        "\n",
        "directoryPath = '/youtube_data'\n",
        "GB_category_id = {}\n",
        "with open(drivePath + directoryPath + '/GB_category_id.json') as json_file:\n",
        "    GB_category_id = json.load(json_file)\n",
        "\n",
        "GB_videos_5p = pd.read_csv(drivePath + directoryPath + '/GB_videos_5p.csv', encoding='ISO-8859-1', sep=';')\n",
        "\n",
        "US_category_id = {}\n",
        "with open(drivePath + directoryPath + '/US_category_id.json') as json_file:\n",
        "    US_category_id = json.load(json_file)\n",
        "\n",
        "US_videos_5p = pd.read_csv(drivePath + directoryPath + '/US_videos_5p.csv', encoding='ISO-8859-1', sep=';')\n",
        "\n",
        "print(GB_videos_5p.columns)\n",
        "print(US_videos_5p.columns)"
      ],
      "execution_count": 67,
      "outputs": [
        {
          "output_type": "stream",
          "text": [
            "Index(['video_id', 'trending_date', 'title', 'channel_title', 'category_id',\n",
            "       'publish_time', 'tags', 'views', 'likes', 'dislikes', 'comment_count',\n",
            "       'thumbnail_link', 'comments_disabled', 'ratings_disabled',\n",
            "       'video_error_or_removed', 'description '],\n",
            "      dtype='object')\n",
            "Index(['video_id', 'trending_date', 'title', 'channel_title', 'category_id',\n",
            "       'publish_time', 'tags', 'views', 'likes', 'dislikes', 'comment_count',\n",
            "       'thumbnail_link', 'comments_disabled', 'ratings_disabled',\n",
            "       'video_error_or_removed', 'description '],\n",
            "      dtype='object')\n"
          ],
          "name": "stdout"
        }
      ]
    },
    {
      "cell_type": "code",
      "metadata": {
        "id": "iD6M8GLE0Arp",
        "colab_type": "code",
        "colab": {
          "base_uri": "https://localhost:8080/",
          "height": 867
        },
        "outputId": "030ef10f-841d-4af5-923c-e838a6f391f9"
      },
      "source": [
        "# Basic analysis All\n",
        "\n",
        "# GB_videos_5p\n",
        "print('GB_videos_5p\\n')\n",
        "print('number of attributes: ', len(GB_videos_5p.columns))\n",
        "print('attributes names: ', GB_videos_5p.columns)\n",
        "for n in GB_videos_5p.columns:\n",
        "  print('not empty attribute', n, '[%]:', 100 * len(GB_videos_5p[GB_videos_5p[n].notnull()]) / len(GB_videos_5p))\n",
        "# US_videos_5p\n",
        "print('\\n\\nUS_videos_5p\\n')\n",
        "print('number of attributes: ', len(US_videos_5p.columns))\n",
        "print('attributes names: ', US_videos_5p.columns)\n",
        "for n in US_videos_5p.columns:\n",
        "  print('not empty attribute', n, '[%]:', 100 * len(US_videos_5p[US_videos_5p[n].notnull()]) / len(US_videos_5p))"
      ],
      "execution_count": 102,
      "outputs": [
        {
          "output_type": "stream",
          "text": [
            "GB_videos_5p\n",
            "\n",
            "number of attributes:  16\n",
            "attributes names:  Index(['video_id', 'trending_date', 'title', 'channel_title', 'category_id',\n",
            "       'publish_time', 'tags', 'views', 'likes', 'dislikes', 'comment_count',\n",
            "       'thumbnail_link', 'comments_disabled', 'ratings_disabled',\n",
            "       'video_error_or_removed', 'description '],\n",
            "      dtype='object')\n",
            "not empty attribute video_id [%]: 100.0\n",
            "not empty attribute trending_date [%]: 100.0\n",
            "not empty attribute title [%]: 100.0\n",
            "not empty attribute channel_title [%]: 100.0\n",
            "not empty attribute category_id [%]: 4.913146263747559\n",
            "not empty attribute publish_time [%]: 100.0\n",
            "not empty attribute tags [%]: 100.0\n",
            "not empty attribute views [%]: 100.0\n",
            "not empty attribute likes [%]: 100.0\n",
            "not empty attribute dislikes [%]: 100.0\n",
            "not empty attribute comment_count [%]: 100.0\n",
            "not empty attribute thumbnail_link [%]: 100.0\n",
            "not empty attribute comments_disabled [%]: 100.0\n",
            "not empty attribute ratings_disabled [%]: 100.0\n",
            "not empty attribute video_error_or_removed [%]: 100.0\n",
            "not empty attribute description  [%]: 98.42738205365403\n",
            "\n",
            "\n",
            "US_videos_5p\n",
            "\n",
            "number of attributes:  16\n",
            "attributes names:  Index(['video_id', 'trending_date', 'title', 'channel_title', 'category_id',\n",
            "       'publish_time', 'tags', 'views', 'likes', 'dislikes', 'comment_count',\n",
            "       'thumbnail_link', 'comments_disabled', 'ratings_disabled',\n",
            "       'video_error_or_removed', 'description '],\n",
            "      dtype='object')\n",
            "not empty attribute video_id [%]: 100.0\n",
            "not empty attribute trending_date [%]: 100.0\n",
            "not empty attribute title [%]: 100.0\n",
            "not empty attribute channel_title [%]: 100.0\n",
            "not empty attribute category_id [%]: 4.932965395980366\n",
            "not empty attribute publish_time [%]: 100.0\n",
            "not empty attribute tags [%]: 100.0\n",
            "not empty attribute views [%]: 100.0\n",
            "not empty attribute likes [%]: 100.0\n",
            "not empty attribute dislikes [%]: 100.0\n",
            "not empty attribute comment_count [%]: 100.0\n",
            "not empty attribute thumbnail_link [%]: 100.0\n",
            "not empty attribute comments_disabled [%]: 100.0\n",
            "not empty attribute ratings_disabled [%]: 100.0\n",
            "not empty attribute video_error_or_removed [%]: 100.0\n",
            "not empty attribute description  [%]: 98.60802461598574\n"
          ],
          "name": "stdout"
        }
      ]
    },
    {
      "cell_type": "code",
      "metadata": {
        "id": "S7kAvdKbRhAW",
        "colab_type": "code",
        "colab": {
          "base_uri": "https://localhost:8080/",
          "height": 561
        },
        "outputId": "24b66f87-4b61-4853-cba8-5c53c3a38182"
      },
      "source": [
        "# date analysis\n",
        "\n",
        "# GB_videos_5p\n",
        "new_date_GB = GB_videos_5p.copy()\n",
        "new_date_GB['trending_date'] = pd.to_datetime(GB_videos_5p['trending_date'],errors='coerce', format='%y.%d.%m')\n",
        "new_date_GB['publish_time'] = pd.to_datetime(GB_videos_5p['publish_time'], errors='coerce', format='%Y-%m-%dT%H:%M:%S.%fZ')\n",
        "\n",
        "new_date_GB = new_date_GB[new_date_GB['trending_date'].notnull()]\n",
        "new_date_GB = new_date_GB[new_date_GB['publish_time'].notnull()]\n",
        "\n",
        "new_date_GB = new_date_GB.dropna(how='any',inplace=False, axis = 0)\n",
        "\n",
        "new_date_GB.insert(4, 'publish_date', new_date_GB['publish_time'].dt.date)\n",
        "new_date_GB['publish_time'] = new_date_GB['publish_time'].dt.time\n",
        "\n",
        "new_date_GB_full = new_date_GB.reset_index().sort_values('trending_date').set_index('video_id')\n",
        "new_date_GB = new_date_GB.reset_index().sort_values('trending_date').drop_duplicates('video_id',keep='last').set_index('video_id')\n",
        "print('new_date_GB publish date range:')\n",
        "print(new_date_GB[['publish_date','publish_time']])\n",
        "\n",
        "# US_videos_5p\n",
        "new_date_US = US_videos_5p.copy()\n",
        "new_date_US['trending_date'] = pd.to_datetime(new_date_US['trending_date'],errors='coerce', format='%y.%d.%m')\n",
        "new_date_US['publish_time'] = pd.to_datetime(new_date_US['publish_time'], errors='coerce', format='%Y-%m-%dT%H:%M:%S.%fZ')\n",
        "\n",
        "new_date_US = new_date_US[new_date_US['trending_date'].notnull()]\n",
        "new_date_US = new_date_US[new_date_US['publish_time'].notnull()]\n",
        "\n",
        "new_date_US = new_date_US.dropna(how='any',inplace=False, axis = 0)\n",
        "\n",
        "new_date_US.insert(4, 'publish_date', new_date_US['publish_time'].dt.date)\n",
        "new_date_US['publish_time'] = new_date_US['publish_time'].dt.time\n",
        "\n",
        "new_date_US_full = new_date_US.reset_index().sort_values('trending_date').set_index('video_id')\n",
        "new_date_US = new_date_US.reset_index().sort_values('trending_date').drop_duplicates('video_id',keep='last').set_index('video_id')\n",
        "print('new_date_US publish date range:')\n",
        "print(new_date_US[['publish_date','publish_time']])"
      ],
      "execution_count": 114,
      "outputs": [
        {
          "output_type": "stream",
          "text": [
            "new_date_GB publish date range:\n",
            "            publish_date publish_time\n",
            "video_id                             \n",
            "Fkwkn7vXpWI   2017-11-09     10:00:00\n",
            "Plh2sfrbdlc   2017-11-03     16:16:41\n",
            "7DLKv39MLbg   2017-11-03     14:56:32\n",
            "OXZQ5DfSAAc   2017-11-01     16:40:51\n",
            "xq9FgX_mXiE   2017-11-01     05:59:58\n",
            "...                  ...          ...\n",
            "T3zm1_JSPOQ   2018-05-31     16:07:53\n",
            "BspHjvU11y4   2018-05-13     13:00:41\n",
            "SQmOaJciI7Q   2018-06-07     19:00:14\n",
            "8JnfIa84TnU   2018-05-31     09:00:13\n",
            "IP8k2xkhOdI   2018-05-11     17:09:16\n",
            "\n",
            "[1295 rows x 2 columns]\n",
            "new_date_US publish date range:\n",
            "            publish_date publish_time\n",
            "video_id                             \n",
            "kgaO45SyaO4   2017-11-13     20:09:58\n",
            "9XSULcLI6Hg   2017-11-12     15:24:29\n",
            "wnwF1FHybDQ   2017-11-10     11:00:04\n",
            "X7flefV8tec   2017-11-09     02:37:49\n",
            "fIQ2Ty2OL34   2017-11-10     04:00:52\n",
            "...                  ...          ...\n",
            "J2HytHu5VBI   2018-06-05     04:54:35\n",
            "2wJESCSvFU8   2018-06-04     12:00:00\n",
            "3uGIEY7tdg8   2018-06-04     13:00:02\n",
            "zUzBfBqbSmc   2018-05-31     22:57:07\n",
            "Qofj8MKO6mk   2018-05-31     16:05:40\n",
            "\n",
            "[1626 rows x 2 columns]\n"
          ],
          "name": "stdout"
        }
      ]
    }
  ]
}